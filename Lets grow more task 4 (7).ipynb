{
 "cells": [
  {
   "cell_type": "markdown",
   "id": "5adec4db",
   "metadata": {},
   "source": [
    "# LETS GROW MORE\n",
    "\n",
    "TASK -4\n",
    "\n",
    "Name :SHRI HARSINIMIRA G\n",
    "\n",
    "Level-Advanced\n",
    "    \n",
    "Develop a Neural Network That can read Handwriting"
   ]
  },
  {
   "cell_type": "code",
   "execution_count": 29,
   "id": "9f0218cf",
   "metadata": {},
   "outputs": [],
   "source": [
    "import numpy as np\n",
    "from keras.datasets import mnist\n",
    "from keras.models import Sequential\n",
    "from keras.layers.core import Dense,Activation\n",
    "from keras.utils import np_utils"
   ]
  },
  {
   "cell_type": "code",
   "execution_count": 30,
   "id": "7f3214f6",
   "metadata": {},
   "outputs": [],
   "source": [
    "(x_train,y_train),(x_test,y_test) = mnist.load_data()"
   ]
  },
  {
   "cell_type": "code",
   "execution_count": 37,
   "id": "b980b1c8",
   "metadata": {},
   "outputs": [
    {
     "data": {
      "image/png": "[encoded data removed]",
      "text/plain": [
       "<Figure size 1440x288 with 20 Axes>"
      ]
     },
     "metadata": {
      "needs_background": "light"
     },
     "output_type": "display_data"
    }
   ],
   "source": [
    "import matplotlib.pyplot as plt\n",
    "n=20\n",
    "plt.figure(figsize=(20,4))\n",
    "for i in range(n):\n",
    "    ax=plt.subplot(2, n, i+1)\n",
    "    plt.imshow(x_test[1].reshape(28,28))\n",
    "    plt.gray()\n",
    "    ax.get_xaxis().set_visible(False)\n",
    "    ax.get_yaxis().set_visible(False)\n",
    "plt.show()\n",
    "plt.close()\n",
    "    "
   ]
  },
  {
   "cell_type": "code",
   "execution_count": 32,
   "id": "490f846f",
   "metadata": {},
   "outputs": [
    {
     "name": "stdout",
     "output_type": "stream",
     "text": [
      "Previous x_train shape: () \n",
      "Previous y_train shape:(60000, 28, 28)\n",
      "New x_train shape: (60000, 784) \n",
      "New y_train shape:(60000, 10)\n"
     ]
    }
   ],
   "source": [
    "print(\"Previous x_train shape: () \\nPrevious y_train shape:{}\".format(x_train.shape,y_train.shape))\n",
    "x_train = x_train.reshape(60000,784)\n",
    "x_test = x_test.reshape(10000,784)\n",
    "x_train = x_train.astype('float32')\n",
    "x_test = x_test.astype('float32')\n",
    "x_train /= 255\n",
    "x_test /=255\n",
    "classes = 10\n",
    "y_train = np_utils.to_categorical(y_train,classes)\n",
    "y_test = np_utils.to_categorical(y_test,classes)\n",
    "print(\"New x_train shape: {} \\nNew y_train shape:{}\".format(x_train.shape,y_train.shape))"
   ]
  },
  {
   "cell_type": "code",
   "execution_count": 33,
   "id": "9a9ef72e",
   "metadata": {},
   "outputs": [],
   "source": [
    "input_size = 784\n",
    "batch_size = 200\n",
    "hidden1 = 400\n",
    "hidden2 = 20\n",
    "epochs = 2"
   ]
  },
  {
   "cell_type": "code",
   "execution_count": 34,
   "id": "daf9e4da",
   "metadata": {},
   "outputs": [
    {
     "name": "stdout",
     "output_type": "stream",
     "text": [
      "Model: \"sequential_10\"\n",
      "_________________________________________________________________\n",
      " Layer (type)                Output Shape              Param #   \n",
      "=================================================================\n",
      " dense_10 (Dense)            (None, 400)               314000    \n",
      "                                                                 \n",
      " dense_11 (Dense)            (None, 20)                8020      \n",
      "                                                                 \n",
      " dense_12 (Dense)            (None, 10)                210       \n",
      "                                                                 \n",
      "=================================================================\n",
      "Total params: 322,230\n",
      "Trainable params: 322,230\n",
      "Non-trainable params: 0\n",
      "_________________________________________________________________\n"
     ]
    }
   ],
   "source": [
    "model = Sequential()\n",
    "model.add(Dense(hidden1, input_dim=input_size,activation='relu'))\n",
    "\n",
    "model.add(Dense(hidden2,activation='relu'))\n",
    "model.add(Dense(classes,activation='softmax'))\n",
    "\n",
    "model.compile(loss='categorical_crossentropy',\n",
    "metrics=['accuracy'],optimizer='sgd')\n",
    "model.summary()\n",
    "\n"
   ]
  },
  {
   "cell_type": "code",
   "execution_count": 35,
   "id": "6f188ddc",
   "metadata": {},
   "outputs": [
    {
     "name": "stdout",
     "output_type": "stream",
     "text": [
      "Epoch 1/100\n",
      "300/300 - 2s - loss: 1.5057 - accuracy: 0.6069 - 2s/epoch - 7ms/step\n",
      "Epoch 2/100\n",
      "300/300 - 2s - loss: 0.6655 - accuracy: 0.8430 - 2s/epoch - 6ms/step\n",
      "Epoch 3/100\n",
      "300/300 - 2s - loss: 0.4766 - accuracy: 0.8783 - 2s/epoch - 6ms/step\n",
      "Epoch 4/100\n",
      "300/300 - 2s - loss: 0.4024 - accuracy: 0.8926 - 2s/epoch - 6ms/step\n",
      "Epoch 5/100\n",
      "300/300 - 2s - loss: 0.3620 - accuracy: 0.9009 - 2s/epoch - 7ms/step\n",
      "Epoch 6/100\n",
      "300/300 - 2s - loss: 0.3352 - accuracy: 0.9072 - 2s/epoch - 7ms/step\n",
      "Epoch 7/100\n",
      "300/300 - 2s - loss: 0.3154 - accuracy: 0.9122 - 2s/epoch - 7ms/step\n",
      "Epoch 8/100\n",
      "300/300 - 2s - loss: 0.2994 - accuracy: 0.9160 - 2s/epoch - 7ms/step\n",
      "Epoch 9/100\n",
      "300/300 - 2s - loss: 0.2862 - accuracy: 0.9194 - 2s/epoch - 7ms/step\n",
      "Epoch 10/100\n",
      "300/300 - 2s - loss: 0.2745 - accuracy: 0.9227 - 2s/epoch - 6ms/step\n",
      "Epoch 11/100\n",
      "300/300 - 2s - loss: 0.2642 - accuracy: 0.9255 - 2s/epoch - 7ms/step\n",
      "Epoch 12/100\n",
      "300/300 - 2s - loss: 0.2549 - accuracy: 0.9278 - 2s/epoch - 7ms/step\n",
      "Epoch 13/100\n",
      "300/300 - 2s - loss: 0.2463 - accuracy: 0.9305 - 2s/epoch - 7ms/step\n",
      "Epoch 14/100\n",
      "300/300 - 2s - loss: 0.2382 - accuracy: 0.9331 - 2s/epoch - 6ms/step\n",
      "Epoch 15/100\n",
      "300/300 - 2s - loss: 0.2307 - accuracy: 0.9351 - 2s/epoch - 7ms/step\n",
      "Epoch 16/100\n",
      "300/300 - 2s - loss: 0.2237 - accuracy: 0.9370 - 2s/epoch - 7ms/step\n",
      "Epoch 17/100\n",
      "300/300 - 2s - loss: 0.2171 - accuracy: 0.9389 - 2s/epoch - 7ms/step\n",
      "Epoch 18/100\n",
      "300/300 - 2s - loss: 0.2108 - accuracy: 0.9408 - 2s/epoch - 6ms/step\n",
      "Epoch 19/100\n",
      "300/300 - 2s - loss: 0.2050 - accuracy: 0.9424 - 2s/epoch - 7ms/step\n",
      "Epoch 20/100\n",
      "300/300 - 2s - loss: 0.1993 - accuracy: 0.9444 - 2s/epoch - 6ms/step\n",
      "Epoch 21/100\n",
      "300/300 - 2s - loss: 0.1940 - accuracy: 0.9453 - 2s/epoch - 7ms/step\n",
      "Epoch 22/100\n",
      "300/300 - 2s - loss: 0.1890 - accuracy: 0.9475 - 2s/epoch - 7ms/step\n",
      "Epoch 23/100\n",
      "300/300 - 2s - loss: 0.1841 - accuracy: 0.9488 - 2s/epoch - 7ms/step\n",
      "Epoch 24/100\n",
      "300/300 - 2s - loss: 0.1795 - accuracy: 0.9497 - 2s/epoch - 6ms/step\n",
      "Epoch 25/100\n",
      "300/300 - 2s - loss: 0.1752 - accuracy: 0.9511 - 2s/epoch - 6ms/step\n",
      "Epoch 26/100\n",
      "300/300 - 2s - loss: 0.1707 - accuracy: 0.9525 - 2s/epoch - 7ms/step\n",
      "Epoch 27/100\n",
      "300/300 - 2s - loss: 0.1666 - accuracy: 0.9526 - 2s/epoch - 6ms/step\n",
      "Epoch 28/100\n",
      "300/300 - 2s - loss: 0.1629 - accuracy: 0.9540 - 2s/epoch - 7ms/step\n",
      "Epoch 29/100\n",
      "300/300 - 2s - loss: 0.1591 - accuracy: 0.9550 - 2s/epoch - 7ms/step\n",
      "Epoch 30/100\n",
      "300/300 - 2s - loss: 0.1555 - accuracy: 0.9560 - 2s/epoch - 6ms/step\n",
      "Epoch 31/100\n",
      "300/300 - 2s - loss: 0.1520 - accuracy: 0.9571 - 2s/epoch - 6ms/step\n",
      "Epoch 32/100\n",
      "300/300 - 2s - loss: 0.1486 - accuracy: 0.9582 - 2s/epoch - 6ms/step\n",
      "Epoch 33/100\n",
      "300/300 - 2s - loss: 0.1455 - accuracy: 0.9589 - 2s/epoch - 6ms/step\n",
      "Epoch 34/100\n",
      "300/300 - 2s - loss: 0.1424 - accuracy: 0.9597 - 2s/epoch - 6ms/step\n",
      "Epoch 35/100\n",
      "300/300 - 2s - loss: 0.1394 - accuracy: 0.9606 - 2s/epoch - 7ms/step\n",
      "Epoch 36/100\n",
      "300/300 - 2s - loss: 0.1366 - accuracy: 0.9613 - 2s/epoch - 6ms/step\n",
      "Epoch 37/100\n",
      "300/300 - 2s - loss: 0.1339 - accuracy: 0.9617 - 2s/epoch - 6ms/step\n",
      "Epoch 38/100\n",
      "300/300 - 2s - loss: 0.1312 - accuracy: 0.9628 - 2s/epoch - 6ms/step\n",
      "Epoch 39/100\n",
      "300/300 - 2s - loss: 0.1285 - accuracy: 0.9638 - 2s/epoch - 6ms/step\n",
      "Epoch 40/100\n",
      "300/300 - 2s - loss: 0.1260 - accuracy: 0.9643 - 2s/epoch - 6ms/step\n",
      "Epoch 41/100\n",
      "300/300 - 2s - loss: 0.1236 - accuracy: 0.9650 - 2s/epoch - 6ms/step\n",
      "Epoch 42/100\n",
      "300/300 - 2s - loss: 0.1212 - accuracy: 0.9657 - 2s/epoch - 6ms/step\n",
      "Epoch 43/100\n",
      "300/300 - 2s - loss: 0.1190 - accuracy: 0.9663 - 2s/epoch - 6ms/step\n",
      "Epoch 44/100\n",
      "300/300 - 2s - loss: 0.1167 - accuracy: 0.9670 - 2s/epoch - 6ms/step\n",
      "Epoch 45/100\n",
      "300/300 - 2s - loss: 0.1145 - accuracy: 0.9675 - 2s/epoch - 6ms/step\n",
      "Epoch 46/100\n",
      "300/300 - 2s - loss: 0.1125 - accuracy: 0.9679 - 2s/epoch - 6ms/step\n",
      "Epoch 47/100\n",
      "300/300 - 2s - loss: 0.1104 - accuracy: 0.9688 - 2s/epoch - 6ms/step\n",
      "Epoch 48/100\n",
      "300/300 - 2s - loss: 0.1084 - accuracy: 0.9693 - 2s/epoch - 6ms/step\n",
      "Epoch 49/100\n",
      "300/300 - 2s - loss: 0.1065 - accuracy: 0.9701 - 2s/epoch - 6ms/step\n",
      "Epoch 50/100\n",
      "300/300 - 2s - loss: 0.1047 - accuracy: 0.9704 - 2s/epoch - 6ms/step\n",
      "Epoch 51/100\n",
      "300/300 - 2s - loss: 0.1030 - accuracy: 0.9711 - 2s/epoch - 7ms/step\n",
      "Epoch 52/100\n",
      "300/300 - 2s - loss: 0.1012 - accuracy: 0.9715 - 2s/epoch - 6ms/step\n",
      "Epoch 53/100\n",
      "300/300 - 2s - loss: 0.0995 - accuracy: 0.9722 - 2s/epoch - 7ms/step\n",
      "Epoch 54/100\n",
      "300/300 - 2s - loss: 0.0977 - accuracy: 0.9724 - 2s/epoch - 6ms/step\n",
      "Epoch 55/100\n",
      "300/300 - 2s - loss: 0.0962 - accuracy: 0.9732 - 2s/epoch - 6ms/step\n",
      "Epoch 56/100\n",
      "300/300 - 2s - loss: 0.0946 - accuracy: 0.9736 - 2s/epoch - 7ms/step\n",
      "Epoch 57/100\n",
      "300/300 - 2s - loss: 0.0930 - accuracy: 0.9743 - 2s/epoch - 7ms/step\n",
      "Epoch 58/100\n",
      "300/300 - 2s - loss: 0.0916 - accuracy: 0.9744 - 2s/epoch - 6ms/step\n",
      "Epoch 59/100\n",
      "300/300 - 2s - loss: 0.0901 - accuracy: 0.9751 - 2s/epoch - 6ms/step\n",
      "Epoch 60/100\n",
      "300/300 - 2s - loss: 0.0887 - accuracy: 0.9753 - 2s/epoch - 6ms/step\n",
      "Epoch 61/100\n",
      "300/300 - 2s - loss: 0.0873 - accuracy: 0.9756 - 2s/epoch - 7ms/step\n",
      "Epoch 62/100\n",
      "300/300 - 2s - loss: 0.0859 - accuracy: 0.9761 - 2s/epoch - 7ms/step\n",
      "Epoch 63/100\n",
      "300/300 - 2s - loss: 0.0847 - accuracy: 0.9764 - 2s/epoch - 6ms/step\n",
      "Epoch 64/100\n",
      "300/300 - 2s - loss: 0.0833 - accuracy: 0.9771 - 2s/epoch - 7ms/step\n",
      "Epoch 65/100\n",
      "300/300 - 2s - loss: 0.0821 - accuracy: 0.9773 - 2s/epoch - 6ms/step\n",
      "Epoch 66/100\n",
      "300/300 - 2s - loss: 0.0808 - accuracy: 0.9776 - 2s/epoch - 6ms/step\n",
      "Epoch 67/100\n",
      "300/300 - 2s - loss: 0.0797 - accuracy: 0.9779 - 2s/epoch - 6ms/step\n",
      "Epoch 68/100\n",
      "300/300 - 2s - loss: 0.0784 - accuracy: 0.9783 - 2s/epoch - 6ms/step\n",
      "Epoch 69/100\n",
      "300/300 - 2s - loss: 0.0773 - accuracy: 0.9786 - 2s/epoch - 6ms/step\n",
      "Epoch 70/100\n",
      "300/300 - 2s - loss: 0.0762 - accuracy: 0.9790 - 2s/epoch - 6ms/step\n",
      "Epoch 71/100\n",
      "300/300 - 2s - loss: 0.0751 - accuracy: 0.9798 - 2s/epoch - 6ms/step\n",
      "Epoch 72/100\n",
      "300/300 - 2s - loss: 0.0740 - accuracy: 0.9798 - 2s/epoch - 6ms/step\n",
      "Epoch 73/100\n",
      "300/300 - 2s - loss: 0.0729 - accuracy: 0.9802 - 2s/epoch - 6ms/step\n",
      "Epoch 74/100\n",
      "300/300 - 2s - loss: 0.0718 - accuracy: 0.9806 - 2s/epoch - 6ms/step\n",
      "Epoch 75/100\n",
      "300/300 - 2s - loss: 0.0710 - accuracy: 0.9809 - 2s/epoch - 6ms/step\n",
      "Epoch 76/100\n",
      "300/300 - 2s - loss: 0.0699 - accuracy: 0.9812 - 2s/epoch - 6ms/step\n",
      "Epoch 77/100\n",
      "300/300 - 2s - loss: 0.0690 - accuracy: 0.9814 - 2s/epoch - 6ms/step\n",
      "Epoch 78/100\n",
      "300/300 - 2s - loss: 0.0680 - accuracy: 0.9820 - 2s/epoch - 6ms/step\n",
      "Epoch 79/100\n",
      "300/300 - 2s - loss: 0.0671 - accuracy: 0.9824 - 2s/epoch - 6ms/step\n",
      "Epoch 80/100\n",
      "300/300 - 2s - loss: 0.0662 - accuracy: 0.9826 - 2s/epoch - 6ms/step\n",
      "Epoch 81/100\n",
      "300/300 - 2s - loss: 0.0652 - accuracy: 0.9826 - 2s/epoch - 7ms/step\n",
      "Epoch 82/100\n",
      "300/300 - 2s - loss: 0.0644 - accuracy: 0.9831 - 2s/epoch - 6ms/step\n",
      "Epoch 83/100\n",
      "300/300 - 2s - loss: 0.0636 - accuracy: 0.9836 - 2s/epoch - 6ms/step\n",
      "Epoch 84/100\n",
      "300/300 - 2s - loss: 0.0627 - accuracy: 0.9835 - 2s/epoch - 6ms/step\n",
      "Epoch 85/100\n",
      "300/300 - 2s - loss: 0.0619 - accuracy: 0.9837 - 2s/epoch - 7ms/step\n",
      "Epoch 86/100\n",
      "300/300 - 2s - loss: 0.0610 - accuracy: 0.9840 - 2s/epoch - 6ms/step\n",
      "Epoch 87/100\n",
      "300/300 - 2s - loss: 0.0603 - accuracy: 0.9840 - 2s/epoch - 6ms/step\n",
      "Epoch 88/100\n",
      "300/300 - 2s - loss: 0.0595 - accuracy: 0.9845 - 2s/epoch - 6ms/step\n",
      "Epoch 89/100\n",
      "300/300 - 2s - loss: 0.0588 - accuracy: 0.9847 - 2s/epoch - 6ms/step\n",
      "Epoch 90/100\n",
      "300/300 - 2s - loss: 0.0579 - accuracy: 0.9849 - 2s/epoch - 6ms/step\n",
      "Epoch 91/100\n",
      "300/300 - 2s - loss: 0.0572 - accuracy: 0.9850 - 2s/epoch - 6ms/step\n",
      "Epoch 92/100\n",
      "300/300 - 2s - loss: 0.0564 - accuracy: 0.9853 - 2s/epoch - 6ms/step\n",
      "Epoch 93/100\n",
      "300/300 - 2s - loss: 0.0557 - accuracy: 0.9855 - 2s/epoch - 6ms/step\n",
      "Epoch 94/100\n",
      "300/300 - 2s - loss: 0.0551 - accuracy: 0.9859 - 2s/epoch - 6ms/step\n",
      "Epoch 95/100\n",
      "300/300 - 2s - loss: 0.0545 - accuracy: 0.9861 - 2s/epoch - 7ms/step\n",
      "Epoch 96/100\n",
      "300/300 - 2s - loss: 0.0538 - accuracy: 0.9859 - 2s/epoch - 7ms/step\n",
      "Epoch 97/100\n",
      "300/300 - 2s - loss: 0.0531 - accuracy: 0.9861 - 2s/epoch - 7ms/step\n",
      "Epoch 98/100\n",
      "300/300 - 2s - loss: 0.0524 - accuracy: 0.9865 - 2s/epoch - 6ms/step\n",
      "Epoch 99/100\n",
      "300/300 - 2s - loss: 0.0518 - accuracy: 0.9869 - 2s/epoch - 7ms/step\n",
      "Epoch 100/100\n",
      "300/300 - 2s - loss: 0.0511 - accuracy: 0.9872 - 2s/epoch - 8ms/step\n"
     ]
    },
    {
     "data": {
      "text/plain": [
       "<keras.callbacks.History at 0x22ced17e370>"
      ]
     },
     "execution_count": 35,
     "metadata": {},
     "output_type": "execute_result"
    }
   ],
   "source": [
    "model.fit(x_train,y_train,batch_size=batch_size,epochs=100,verbose=2)"
   ]
  },
  {
   "cell_type": "markdown",
   "id": "a68afcd2",
   "metadata": {},
   "source": [
    "# TESTING THE MODEL"
   ]
  },
  {
   "cell_type": "code",
   "execution_count": 39,
   "id": "d80cf0c5",
   "metadata": {},
   "outputs": [
    {
     "name": "stdout",
     "output_type": "stream",
     "text": [
      "313/313 [==============================] - 1s 3ms/step - loss: 0.0805 - accuracy: 0.9756\n",
      "\n",
      "test accuracy: 0.975600004196167\n",
      "[7 2 1 0 4 1 4 9 6 9 0 6 9 0 1 5 9 7 3 4]\n"
     ]
    },
    {
     "data": {
      "image/png": "[encoded data removed]",
      "text/plain": [
       "<Figure size 1440x288 with 20 Axes>"
      ]
     },
     "metadata": {
      "needs_background": "light"
     },
     "output_type": "display_data"
    }
   ],
   "source": [
    "score = model.evaluate(x_test,y_test,verbose=1)\n",
    "print('\\n''test accuracy:',score[1])\n",
    "mask = range(0,20)\n",
    "x_valid = x_test[mask]\n",
    "predict_y=model.predict(x_valid)\n",
    "classes_y=np.argmax(predict_y,axis=1)\n",
    "print(classes_y)\n",
    "\n",
    "#display oridinal\n",
    "plt.figure(figsize=(20,4))\n",
    "for i in range(n):\n",
    "    ax=plt.subplot(2, n, i+1)\n",
    "    plt.imshow(x_test[1].reshape(28,28))\n",
    "    plt.gray()\n",
    "    ax.get_xaxis().set_visible(False)\n",
    "    ax.get_yaxis().set_visible(False)\n",
    "plt.show()\n",
    "plt.close()"
   ]
  },
  {
   "cell_type": "code",
   "execution_count": null,
   "id": "9d65910d",
   "metadata": {},
   "outputs": [],
   "source": []
  }
 ],
 "metadata": {
  "kernelspec": {
   "display_name": "Python 3",
   "language": "python",
   "name": "python3"
  },
  "language_info": {
   "codemirror_mode": {
    "name": "ipython",
    "version": 3
   },
   "file_extension": ".py",
   "mimetype": "text/x-python",
   "name": "python",
   "nbconvert_exporter": "python",
   "pygments_lexer": "ipython3",
   "version": "3.8.8"
  }
 },
 "nbformat": 4,
 "nbformat_minor": 5
}
